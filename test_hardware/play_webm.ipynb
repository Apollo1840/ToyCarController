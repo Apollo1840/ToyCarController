{
 "cells": [
  {
   "cell_type": "code",
   "execution_count": 1,
   "id": "439f15d5",
   "metadata": {},
   "outputs": [],
   "source": [
    "import vlc\n",
    "import os\n",
    "def play_webm(file_path, device_name=None):\n",
    "    # Initialize VLC instance\n",
    "    instance = vlc.Instance()\n",
    "\n",
    "    # Create a media player\n",
    "    player = instance.media_player_new()\n",
    "\n",
    "    # Set media\n",
    "    media = instance.media_new(file_path)\n",
    "    player.set_media(media)\n",
    "\n",
    "    # Set the desired audio output device if specified\n",
    "    if device_name:\n",
    "        # Get the audio output module name (e.g., 'alsa', 'coreaudio', etc.)\n",
    "        audio_output_module = player.audio_output_device_get()\n",
    "        \n",
    "        # Set the specific audio output device\n",
    "        player.audio_output_device_set(audio_output_module, device_name)\n",
    "    \n",
    "    # Play the media\n",
    "    player.play()\n",
    "    \n",
    "    # Keep the program running until the audio finishes\n",
    "    while player.is_playing():\n",
    "        pass\n"
   ]
  },
  {
   "cell_type": "code",
   "execution_count": 2,
   "id": "91a4aba2",
   "metadata": {},
   "outputs": [],
   "source": [
    "webm_file_path = os.path.join('recordings', 'recorded_audio.webm')\n",
    "play_webm(webm_file_path)"
   ]
  },
  {
   "cell_type": "code",
   "execution_count": 5,
   "id": "dd0c5080",
   "metadata": {},
   "outputs": [],
   "source": [
    "import time"
   ]
  },
  {
   "cell_type": "code",
   "execution_count": 6,
   "id": "34c4624f",
   "metadata": {},
   "outputs": [
    {
     "name": "stdout",
     "output_type": "stream",
     "text": [
      "play 1\n",
      "play 2\n",
      "play 3\n",
      "play 4\n",
      "play 5\n"
     ]
    },
    {
     "name": "stderr",
     "output_type": "stream",
     "text": [
      "[mp3 @ 0x7f3860c18ea0] Failed to read frame size: Could not seek to 17473.\n",
      "[00007f3860c125f0] avformat demux error: Could not open /home/congyu/congyu_program/pythons/inits/p_toy_car_controller/test_hardware/tmp/uploaded_audio_4.webm: Invalid argument\n"
     ]
    },
    {
     "name": "stdout",
     "output_type": "stream",
     "text": [
      "play 6\n",
      "play 7\n"
     ]
    },
    {
     "name": "stderr",
     "output_type": "stream",
     "text": [
      "[mp3 @ 0x7f38e0c148a0] Failed to read frame size: Could not seek to 17437.\n",
      "[00007f38e0001160] avformat demux error: Could not open /home/congyu/congyu_program/pythons/inits/p_toy_car_controller/test_hardware/tmp/uploaded_audio_6.webm: Invalid argument\n"
     ]
    },
    {
     "name": "stdout",
     "output_type": "stream",
     "text": [
      "play 8\n"
     ]
    },
    {
     "name": "stderr",
     "output_type": "stream",
     "text": [
      "[mp3 @ 0x7f391cc0e260] Failed to read frame size: Could not seek to 11834.\n",
      "[00007f391cc10780] avformat demux error: Could not open /home/congyu/congyu_program/pythons/inits/p_toy_car_controller/test_hardware/tmp/uploaded_audio_7.webm: Invalid argument\n"
     ]
    },
    {
     "name": "stdout",
     "output_type": "stream",
     "text": [
      "play 9\n"
     ]
    }
   ],
   "source": [
    "for i in range(1,10):\n",
    "    webm_file_path = os.path.join('tmp', f'uploaded_audio_{i}.webm')\n",
    "    print(f\"play {i}\")\n",
    "    time.sleep(1)\n",
    "    play_webm(webm_file_path)"
   ]
  },
  {
   "cell_type": "code",
   "execution_count": null,
   "id": "f8d8ef1a",
   "metadata": {},
   "outputs": [],
   "source": []
  }
 ],
 "metadata": {
  "kernelspec": {
   "display_name": "congyutf",
   "language": "python",
   "name": "congyutf"
  },
  "language_info": {
   "codemirror_mode": {
    "name": "ipython",
    "version": 3
   },
   "file_extension": ".py",
   "mimetype": "text/x-python",
   "name": "python",
   "nbconvert_exporter": "python",
   "pygments_lexer": "ipython3",
   "version": "3.9.5"
  }
 },
 "nbformat": 4,
 "nbformat_minor": 5
}
