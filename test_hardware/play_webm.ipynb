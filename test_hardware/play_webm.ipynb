{
 "cells": [
  {
   "cell_type": "code",
   "execution_count": 1,
   "id": "439f15d5",
   "metadata": {},
   "outputs": [],
   "source": [
    "import vlc\n",
    "import os\n",
    "def play_webm(file_path, device_name=None):\n",
    "    # Initialize VLC instance\n",
    "    instance = vlc.Instance()\n",
    "\n",
    "    # Create a media player\n",
    "    player = instance.media_player_new()\n",
    "\n",
    "    # Set media\n",
    "    media = instance.media_new(file_path)\n",
    "    player.set_media(media)\n",
    "\n",
    "    # Set the desired audio output device if specified\n",
    "    if device_name:\n",
    "        # Get the audio output module name (e.g., 'alsa', 'coreaudio', etc.)\n",
    "        audio_output_module = player.audio_output_device_get()\n",
    "        \n",
    "        # Set the specific audio output device\n",
    "        player.audio_output_device_set(audio_output_module, device_name)\n",
    "    \n",
    "    # Play the media\n",
    "    player.play()\n",
    "    \n",
    "    # Keep the program running until the audio finishes\n",
    "    while player.is_playing():\n",
    "        pass\n"
   ]
  },
  {
   "cell_type": "code",
   "execution_count": 2,
   "id": "b65bea65",
   "metadata": {},
   "outputs": [],
   "source": [
    "# webm_file_path = os.path.join('recordings', 'recorded_audio.webm')\n",
    "# play_webm(webm_file_path)"
   ]
  },
  {
   "cell_type": "code",
   "execution_count": 3,
   "id": "0fd95aca",
   "metadata": {},
   "outputs": [],
   "source": [
    "import time"
   ]
  },
  {
   "cell_type": "code",
   "execution_count": 5,
   "id": "34c4624f",
   "metadata": {},
   "outputs": [
    {
     "name": "stdout",
     "output_type": "stream",
     "text": [
      "play 1\n",
      "play 2\n",
      "play 3\n",
      "play 4\n",
      "play 5\n",
      "play 6\n",
      "play 7\n",
      "play 8\n",
      "play 9\n"
     ]
    }
   ],
   "source": [
    "for i in range(1,10):\n",
    "    webm_file_path = os.path.join('tmp', f'uploaded_audio_{i}.webm')\n",
    "    print(f\"play {i}\")\n",
    "    time.sleep(1)\n",
    "    play_webm(webm_file_path)"
   ]
  },
  {
   "cell_type": "code",
   "execution_count": null,
   "id": "f8d8ef1a",
   "metadata": {},
   "outputs": [],
   "source": []
  }
 ],
 "metadata": {
  "kernelspec": {
   "display_name": "congyutf",
   "language": "python",
   "name": "congyutf"
  },
  "language_info": {
   "codemirror_mode": {
    "name": "ipython",
    "version": 3
   },
   "file_extension": ".py",
   "mimetype": "text/x-python",
   "name": "python",
   "nbconvert_exporter": "python",
   "pygments_lexer": "ipython3",
   "version": "3.9.5"
  }
 },
 "nbformat": 4,
 "nbformat_minor": 5
}
