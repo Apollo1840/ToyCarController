{
 "cells": [
  {
   "cell_type": "code",
   "execution_count": 28,
   "id": "38f89ee7",
   "metadata": {},
   "outputs": [
    {
     "name": "stdout",
     "output_type": "stream",
     "text": [
      "Collecting ffmpeg-python\n",
      "  Downloading ffmpeg_python-0.2.0-py3-none-any.whl (25 kB)\n",
      "Collecting future\n",
      "  Downloading future-1.0.0-py3-none-any.whl (491 kB)\n",
      "\u001b[2K     \u001b[38;2;114;156;31m━━━━━━━━━━━━━━━━━━━━━━━━━━━━━━━━━━━━━━\u001b[0m \u001b[32m491.3/491.3 kB\u001b[0m \u001b[31m10.7 MB/s\u001b[0m eta \u001b[36m0:00:00\u001b[0m MB/s\u001b[0m eta \u001b[36m0:00:01\u001b[0m\n",
      "\u001b[?25hInstalling collected packages: future, ffmpeg-python\n",
      "Successfully installed ffmpeg-python-0.2.0 future-1.0.0\n"
     ]
    }
   ],
   "source": [
    "!pip install ffmpeg-python"
   ]
  },
  {
   "cell_type": "code",
   "execution_count": 1,
   "id": "c541e783",
   "metadata": {},
   "outputs": [],
   "source": [
    "import os\n",
    "import wave\n",
    "import pyaudio\n",
    "from pydub import AudioSegment"
   ]
  },
  {
   "cell_type": "code",
   "execution_count": 23,
   "id": "a68a42f1",
   "metadata": {},
   "outputs": [],
   "source": [
    "def play_wav_file(wav_file_path):\n",
    "    with wave.open(wav_file_path, 'rb') as wf:\n",
    "        p = pyaudio.PyAudio()\n",
    "        \n",
    "        print(f\"sample width: {wf.getsampwidth()}\")\n",
    "        print(f\"n channels: {wf.getnchannels()}\")\n",
    "        print(f\"framerate: {wf.getframerate()}\")\n",
    "        \n",
    "        stream = p.open(format=p.get_format_from_width(wf.getsampwidth()),\n",
    "                        channels=wf.getnchannels(),\n",
    "                        rate=wf.getframerate(),\n",
    "                        output=True)\n",
    "\n",
    "        # Start the stream\n",
    "        stream.start_stream()\n",
    "\n",
    "        CHUNK = 1024\n",
    "        data = wf.readframes(CHUNK)\n",
    "\n",
    "        print(f\"Playing...from {wav_file_path}\")\n",
    "        while data:\n",
    "            stream.write(data)\n",
    "            data = wf.readframes(CHUNK)\n",
    "\n",
    "        # Stop and close the stream\n",
    "        stream.stop_stream()\n",
    "        stream.close()\n",
    "        p.terminate()\n",
    "\n",
    "        print(\"finished playing\")\n"
   ]
  },
  {
   "cell_type": "code",
   "execution_count": 14,
   "id": "5504a28a",
   "metadata": {},
   "outputs": [],
   "source": [
    "webm_file_path = os.path.join('recordings', 'recorded_audio.webm')\n",
    "wav_file_path = os.path.join('recordings', 'recorded_audio.wav')\n",
    "mp4_file_path = os.path.join('recordings', 'recorded_audio.mp4')\n",
    "wav_file_path2 = os.path.join('recordings', 'output_48000.wav')"
   ]
  },
  {
   "cell_type": "code",
   "execution_count": 9,
   "id": "d653905d",
   "metadata": {},
   "outputs": [
    {
     "data": {
      "text/plain": [
       "<_io.BufferedRandom name='recordings/recorded_audio.wav'>"
      ]
     },
     "execution_count": 9,
     "metadata": {},
     "output_type": "execute_result"
    }
   ],
   "source": [
    "# Convert the audio to WAV format (you can use pydub or similar)\n",
    "# sound = AudioSegment.from_file(webm_file_path, format=\"webm\")\n",
    "# sound.export(wav_file_path, format=\"wav\")"
   ]
  },
  {
   "cell_type": "code",
   "execution_count": 24,
   "id": "95da2b2c",
   "metadata": {},
   "outputs": [
    {
     "name": "stderr",
     "output_type": "stream",
     "text": [
      "ALSA lib pcm.c:2495:(snd_pcm_open_noupdate) Unknown PCM cards.pcm.rear\n",
      "ALSA lib pcm.c:2495:(snd_pcm_open_noupdate) Unknown PCM cards.pcm.center_lfe\n",
      "ALSA lib pcm.c:2495:(snd_pcm_open_noupdate) Unknown PCM cards.pcm.side\n",
      "ALSA lib pcm_route.c:867:(find_matching_chmap) Found no matching channel map\n",
      "ALSA lib pcm_route.c:867:(find_matching_chmap) Found no matching channel map\n",
      "ALSA lib pcm_route.c:867:(find_matching_chmap) Found no matching channel map\n",
      "ALSA lib pcm_route.c:867:(find_matching_chmap) Found no matching channel map\n"
     ]
    },
    {
     "name": "stdout",
     "output_type": "stream",
     "text": [
      "sample width: 4\n",
      "n channels: 1\n",
      "framerate: 48000\n",
      "Playing...from recordings/recorded_audio.wav\n",
      "finished playing\n"
     ]
    }
   ],
   "source": [
    "play_wav_file(wav_file_path)"
   ]
  },
  {
   "cell_type": "code",
   "execution_count": 26,
   "id": "d3ef5d65",
   "metadata": {},
   "outputs": [
    {
     "name": "stderr",
     "output_type": "stream",
     "text": [
      "ALSA lib pcm.c:2495:(snd_pcm_open_noupdate) Unknown PCM cards.pcm.rear\n",
      "ALSA lib pcm.c:2495:(snd_pcm_open_noupdate) Unknown PCM cards.pcm.center_lfe\n",
      "ALSA lib pcm.c:2495:(snd_pcm_open_noupdate) Unknown PCM cards.pcm.side\n",
      "ALSA lib pcm_route.c:867:(find_matching_chmap) Found no matching channel map\n",
      "ALSA lib pcm_route.c:867:(find_matching_chmap) Found no matching channel map\n",
      "ALSA lib pcm_route.c:867:(find_matching_chmap) Found no matching channel map\n",
      "ALSA lib pcm_route.c:867:(find_matching_chmap) Found no matching channel map\n"
     ]
    },
    {
     "name": "stdout",
     "output_type": "stream",
     "text": [
      "sample width: 2\n",
      "n channels: 1\n",
      "framerate: 48000\n",
      "Playing...from recordings/output_48000.wav\n"
     ]
    },
    {
     "name": "stderr",
     "output_type": "stream",
     "text": [
      "ALSA lib pcm.c:8306:(snd_pcm_recover) underrun occurred\n"
     ]
    },
    {
     "name": "stdout",
     "output_type": "stream",
     "text": [
      "finished playing\n"
     ]
    }
   ],
   "source": [
    "play_wav_file(wav_file_path2)"
   ]
  },
  {
   "cell_type": "code",
   "execution_count": 8,
   "id": "3e14cbe6",
   "metadata": {
    "collapsed": true
   },
   "outputs": [
    {
     "name": "stderr",
     "output_type": "stream",
     "text": [
      "[00007f1908001830] filesystem stream error: cannot open file /home/congyu/congyu_program/pythons/inits/p_toy_car_controller/test_hardware/path/to/your/file.webm (No such file or directory)\n",
      "[0000559d5b921950] main input error: Your input can't be opened\n",
      "[0000559d5b921950] main input error: VLC is unable to open the MRL 'file:///home/congyu/congyu_program/pythons/inits/p_toy_car_controller/test_hardware/path/to/your/file.webm'. Check the log for details.\n"
     ]
    }
   ],
   "source": [
    "import vlc\n",
    "\n",
    "def play_webm(file_path, device_name=None):\n",
    "    # Initialize VLC instance\n",
    "    instance = vlc.Instance()\n",
    "\n",
    "    # Create a media player\n",
    "    player = instance.media_player_new()\n",
    "\n",
    "    # Set media\n",
    "    media = instance.media_new(file_path)\n",
    "    player.set_media(media)\n",
    "\n",
    "    # Set the desired audio output device if specified\n",
    "    if device_name:\n",
    "        # Get the audio output module name (e.g., 'alsa', 'coreaudio', etc.)\n",
    "        audio_output_module = player.audio_output_device_get()\n",
    "        \n",
    "        # Set the specific audio output device\n",
    "        player.audio_output_device_set(audio_output_module, device_name)\n",
    "    \n",
    "    # Play the media\n",
    "    player.play()\n",
    "    \n",
    "    # Keep the program running until the audio finishes\n",
    "    while player.is_playing():\n",
    "        pass\n"
   ]
  },
  {
   "cell_type": "code",
   "execution_count": 9,
   "id": "4445d257",
   "metadata": {},
   "outputs": [],
   "source": [
    "# Example usage: play a file on a specific device\n",
    "play_webm(webm_file_path)"
   ]
  },
  {
   "cell_type": "code",
   "execution_count": 12,
   "id": "be9db598",
   "metadata": {},
   "outputs": [
    {
     "data": {
      "text/plain": [
       "<_io.BufferedRandom name='recordings/recorded_audio.mp4'>"
      ]
     },
     "execution_count": 12,
     "metadata": {},
     "output_type": "execute_result"
    }
   ],
   "source": [
    "sound = AudioSegment.from_file(webm_file_path, format=\"webm\")\n",
    "sound.export(mp4_file_path, format=\"mp4\")"
   ]
  },
  {
   "cell_type": "code",
   "execution_count": 25,
   "id": "3d7b65bb",
   "metadata": {},
   "outputs": [
    {
     "name": "stdout",
     "output_type": "stream",
     "text": [
      "Video Frame Rate: None FPS\n",
      "Audio Sample Rate: 48000 Hz\n"
     ]
    }
   ],
   "source": [
    "import subprocess\n",
    "import json\n",
    "\n",
    "def get_webm_info(webm_file_path):\n",
    "    cmd = [\n",
    "        'ffprobe', '-v', 'error', '-show_entries',\n",
    "        'format=duration:stream=codec_name,codec_type,width,height,r_frame_rate,sample_rate',\n",
    "        '-of', 'json', webm_file_path\n",
    "    ]\n",
    "    \n",
    "    result = subprocess.run(cmd, stdout=subprocess.PIPE, stderr=subprocess.PIPE)\n",
    "    info = json.loads(result.stdout)\n",
    "    \n",
    "    video_frame_rate = None\n",
    "    audio_sample_rate = None\n",
    "\n",
    "    for stream in info['streams']:\n",
    "        if stream['codec_type'] == 'video':\n",
    "            r_frame_rate = stream['r_frame_rate']\n",
    "            num, denom = map(int, r_frame_rate.split('/'))\n",
    "            video_frame_rate = num / denom\n",
    "        elif stream['codec_type'] == 'audio':\n",
    "            audio_sample_rate = int(stream['sample_rate'])\n",
    "\n",
    "    return video_frame_rate, audio_sample_rate\n",
    "\n",
    "# Example usage\n",
    "video_fps, audio_sample_rate = get_webm_info(webm_file_path)\n",
    "print(f\"Video Frame Rate: {video_fps} FPS\")\n",
    "print(f\"Audio Sample Rate: {audio_sample_rate} Hz\")\n"
   ]
  },
  {
   "cell_type": "code",
   "execution_count": 32,
   "id": "e0a004e0",
   "metadata": {},
   "outputs": [
    {
     "name": "stderr",
     "output_type": "stream",
     "text": [
      "ALSA lib pcm.c:2495:(snd_pcm_open_noupdate) Unknown PCM cards.pcm.rear\n",
      "ALSA lib pcm.c:2495:(snd_pcm_open_noupdate) Unknown PCM cards.pcm.center_lfe\n",
      "ALSA lib pcm.c:2495:(snd_pcm_open_noupdate) Unknown PCM cards.pcm.side\n",
      "ALSA lib pcm_route.c:867:(find_matching_chmap) Found no matching channel map\n",
      "ALSA lib pcm_route.c:867:(find_matching_chmap) Found no matching channel map\n",
      "ALSA lib pcm_route.c:867:(find_matching_chmap) Found no matching channel map\n",
      "ALSA lib pcm_route.c:867:(find_matching_chmap) Found no matching channel map\n"
     ]
    }
   ],
   "source": [
    "import pyaudio\n",
    "import ffmpeg\n",
    "import numpy as np\n",
    "\n",
    "def play_webm_from_binary(webm_binary_data):\n",
    "    # Use FFmpeg to decode the binary data of the webm file to raw PCM data\n",
    "    process = (\n",
    "        ffmpeg\n",
    "        .input('pipe:0', format='webm')\n",
    "        .output('pipe:', format='wav')\n",
    "        .run_async(pipe_stdin=True, pipe_stdout=True, pipe_stderr=True)\n",
    "    )\n",
    "\n",
    "    # Feed the binary data to ffmpeg's stdin\n",
    "    process.stdin.write(webm_binary_data)\n",
    "    process.stdin.close()\n",
    "\n",
    "    # Initialize PyAudio\n",
    "    p = pyaudio.PyAudio()\n",
    "\n",
    "    # Open a stream with PyAudio for playback\n",
    "    stream = p.open(format=pyaudio.paInt16,\n",
    "                    channels=2,\n",
    "                    rate=48000,\n",
    "                    output=True)\n",
    "\n",
    "    chunk_size = 1024\n",
    "\n",
    "    while True:\n",
    "        data = process.stdout.read(chunk_size)\n",
    "        if not data:\n",
    "            break\n",
    "        stream.write(data)\n",
    "\n",
    "    # Stop and close the stream\n",
    "    stream.stop_stream()\n",
    "    stream.close()\n",
    "    p.terminate()\n",
    "\n",
    "    process.stdout.close()\n",
    "    process.wait()\n",
    "\n",
    "# Example usage\n",
    "# Assuming you have a binary representation of the webm file\n",
    "with open(webm_file_path, 'rb') as f:\n",
    "    webm_binary = f.read()\n",
    "\n",
    "play_webm_from_binary(webm_binary)\n"
   ]
  },
  {
   "cell_type": "code",
   "execution_count": 34,
   "id": "4939af8a",
   "metadata": {},
   "outputs": [
    {
     "name": "stdout",
     "output_type": "stream",
     "text": [
      "Channels: 1, Sample Rate: 48000\n"
     ]
    },
    {
     "name": "stderr",
     "output_type": "stream",
     "text": [
      "ALSA lib pcm.c:2495:(snd_pcm_open_noupdate) Unknown PCM cards.pcm.rear\n",
      "ALSA lib pcm.c:2495:(snd_pcm_open_noupdate) Unknown PCM cards.pcm.center_lfe\n",
      "ALSA lib pcm.c:2495:(snd_pcm_open_noupdate) Unknown PCM cards.pcm.side\n",
      "ALSA lib pcm_route.c:867:(find_matching_chmap) Found no matching channel map\n",
      "ALSA lib pcm_route.c:867:(find_matching_chmap) Found no matching channel map\n",
      "ALSA lib pcm_route.c:867:(find_matching_chmap) Found no matching channel map\n",
      "ALSA lib pcm_route.c:867:(find_matching_chmap) Found no matching channel map\n"
     ]
    }
   ],
   "source": [
    "import pyaudio\n",
    "import ffmpeg\n",
    "import numpy as np\n",
    "\n",
    "def play_webm_from_binary(webm_binary_data):\n",
    "    # Use FFmpeg to decode the binary data of the webm file to raw PCM data\n",
    "    process = (\n",
    "        ffmpeg\n",
    "        .input('pipe:0', format='webm')\n",
    "        .output('pipe:', format='wav')\n",
    "        .run_async(pipe_stdin=True, pipe_stdout=True, pipe_stderr=True)\n",
    "    )\n",
    "\n",
    "    # Feed the binary data to ffmpeg's stdin\n",
    "    process.stdin.write(webm_binary_data)\n",
    "    process.stdin.close()\n",
    "\n",
    "    # Read the first few bytes of the WAV header to determine the sample rate and number of channels\n",
    "    wav_header = process.stdout.read(44)  # WAV header is 44 bytes\n",
    "    channels = int.from_bytes(wav_header[22:24], byteorder='little')\n",
    "    sample_rate = int.from_bytes(wav_header[24:28], byteorder='little')\n",
    "\n",
    "    print(f\"Channels: {channels}, Sample Rate: {sample_rate}\")\n",
    "\n",
    "    # Initialize PyAudio\n",
    "    p = pyaudio.PyAudio()\n",
    "\n",
    "    # Open a stream with PyAudio for playback\n",
    "    stream = p.open(format=pyaudio.paInt16,\n",
    "                    channels=channels,\n",
    "                    rate=sample_rate,\n",
    "                    output_device_index=6,\n",
    "                    output=True)\n",
    "\n",
    "    chunk_size = 1024\n",
    "\n",
    "    while True:\n",
    "        data = process.stdout.read(chunk_size)\n",
    "        if not data:\n",
    "            break\n",
    "        stream.write(data)\n",
    "\n",
    "    # Stop and close the stream\n",
    "    stream.stop_stream()\n",
    "    stream.close()\n",
    "    p.terminate()\n",
    "\n",
    "    process.stdout.close()\n",
    "    process.wait()\n",
    "\n",
    "# Example usage\n",
    "# Assuming you have a binary representation of the webm file\n",
    "with open(webm_file_path, 'rb') as f:\n",
    "    webm_binary = f.read()\n",
    "\n",
    "play_webm_from_binary(webm_binary)\n"
   ]
  },
  {
   "cell_type": "code",
   "execution_count": null,
   "id": "82efc5fd",
   "metadata": {},
   "outputs": [],
   "source": []
  }
 ],
 "metadata": {
  "kernelspec": {
   "display_name": "congyutf",
   "language": "python",
   "name": "congyutf"
  },
  "language_info": {
   "codemirror_mode": {
    "name": "ipython",
    "version": 3
   },
   "file_extension": ".py",
   "mimetype": "text/x-python",
   "name": "python",
   "nbconvert_exporter": "python",
   "pygments_lexer": "ipython3",
   "version": "3.9.5"
  }
 },
 "nbformat": 4,
 "nbformat_minor": 5
}
