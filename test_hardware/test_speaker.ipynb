{
 "cells": [
  {
   "cell_type": "code",
   "execution_count": 1,
   "id": "ac5609dc",
   "metadata": {},
   "outputs": [],
   "source": [
    "import pyaudio\n",
    "import wave\n",
    "\n",
    "def list_audio_devices():\n",
    "    p = pyaudio.PyAudio()\n",
    "    info = p.get_host_api_info_by_index(0)\n",
    "    num_devices = info.get('deviceCount')\n",
    "    print(\"Output Devices:\")\n",
    "    for i in range(num_devices):\n",
    "        device_info = p.get_device_info_by_host_api_device_index(0, i)\n",
    "        if device_info.get('maxOutputChannels') > 0:\n",
    "            print(f\"Device ID {i} - {device_info.get('name')}\")\n",
    "    p.terminate()\n",
    "\n",
    "def play_audio(filename, device_index=None):\n",
    "    with wave.open(filename, 'rb') as wf:\n",
    "        print(\"opened file\")\n",
    "        p = pyaudio.PyAudio()\n",
    "        stream = p.open(format=p.get_format_from_width(wf.getsampwidth()),\n",
    "                        channels=wf.getnchannels(),\n",
    "                        rate=wf.getframerate(),\n",
    "                        output=True,\n",
    "                        output_device_index=device_index)  # Set the output device index\n",
    "\n",
    "        CHUNK = 1024\n",
    "        data = wf.readframes(CHUNK)\n",
    "        \n",
    "        print(\"Playing...\")\n",
    "        while data:\n",
    "            stream.write(data)\n",
    "            data = wf.readframes(CHUNK)\n",
    "\n",
    "        stream.stop_stream()\n",
    "        stream.close()\n",
    "        p.terminate()\n",
    "\n"
   ]
  },
  {
   "cell_type": "code",
   "execution_count": 5,
   "id": "1b759491",
   "metadata": {},
   "outputs": [
    {
     "name": "stdout",
     "output_type": "stream",
     "text": [
      "Listing available audio output devices:\n",
      "Output Devices:\n",
      "Device ID 0 - HDA Intel PCH: ALC256 Analog (hw:0,0)\n",
      "Device ID 1 - HDA Intel PCH: HDMI 0 (hw:0,3)\n",
      "Device ID 2 - HDA Intel PCH: HDMI 1 (hw:0,7)\n",
      "Device ID 3 - HDA Intel PCH: HDMI 2 (hw:0,8)\n",
      "Device ID 4 - HDA Intel PCH: HDMI 3 (hw:0,9)\n",
      "Device ID 5 - HDA Intel PCH: HDMI 4 (hw:0,10)\n",
      "Device ID 6 - UACDemoV1.0: USB Audio (hw:1,0)\n",
      "Device ID 7 - sysdefault\n",
      "Device ID 8 - front\n",
      "Device ID 9 - surround40\n",
      "Device ID 10 - surround51\n",
      "Device ID 11 - surround71\n",
      "Device ID 12 - hdmi\n",
      "Device ID 13 - pulse\n",
      "Device ID 14 - dmix\n",
      "Device ID 15 - default\n"
     ]
    },
    {
     "name": "stderr",
     "output_type": "stream",
     "text": [
      "ALSA lib pcm.c:2495:(snd_pcm_open_noupdate) Unknown PCM cards.pcm.rear\n",
      "ALSA lib pcm.c:2495:(snd_pcm_open_noupdate) Unknown PCM cards.pcm.center_lfe\n",
      "ALSA lib pcm.c:2495:(snd_pcm_open_noupdate) Unknown PCM cards.pcm.side\n",
      "ALSA lib pcm_route.c:867:(find_matching_chmap) Found no matching channel map\n",
      "ALSA lib pcm_route.c:867:(find_matching_chmap) Found no matching channel map\n",
      "ALSA lib pcm_route.c:867:(find_matching_chmap) Found no matching channel map\n",
      "ALSA lib pcm_route.c:867:(find_matching_chmap) Found no matching channel map\n"
     ]
    }
   ],
   "source": [
    "print(\"Listing available audio output devices:\")\n",
    "list_audio_devices()"
   ]
  },
  {
   "cell_type": "code",
   "execution_count": 3,
   "id": "a3b463a6",
   "metadata": {},
   "outputs": [
    {
     "name": "stdout",
     "output_type": "stream",
     "text": [
      "Sample rate of output.wav: 44100 Hz\n"
     ]
    }
   ],
   "source": [
    "import wave\n",
    "\n",
    "def check_sample_rate(filename):\n",
    "    with wave.open(filename, 'rb') as wf:\n",
    "        sample_rate = wf.getframerate()\n",
    "        print(f\"Sample rate of {filename}: {sample_rate} Hz\")\n",
    "\n",
    "check_sample_rate(\"output.wav\")\n"
   ]
  },
  {
   "cell_type": "code",
   "execution_count": 4,
   "id": "8d22b227",
   "metadata": {},
   "outputs": [
    {
     "name": "stdout",
     "output_type": "stream",
     "text": [
      "Device ID 0 - HDA Intel PCH: ALC256 Analog (hw:0,0)\n",
      "  Sample Rates: 44100.0 Hz\n",
      "  Max Output Channels: 2\n",
      "Device ID 1 - HDA Intel PCH: HDMI 0 (hw:0,3)\n",
      "  Sample Rates: 44100.0 Hz\n",
      "  Max Output Channels: 8\n",
      "Device ID 2 - HDA Intel PCH: HDMI 1 (hw:0,7)\n",
      "  Sample Rates: 44100.0 Hz\n",
      "  Max Output Channels: 8\n",
      "Device ID 3 - HDA Intel PCH: HDMI 2 (hw:0,8)\n",
      "  Sample Rates: 44100.0 Hz\n",
      "  Max Output Channels: 8\n",
      "Device ID 4 - HDA Intel PCH: HDMI 3 (hw:0,9)\n",
      "  Sample Rates: 44100.0 Hz\n",
      "  Max Output Channels: 8\n",
      "Device ID 5 - HDA Intel PCH: HDMI 4 (hw:0,10)\n",
      "  Sample Rates: 44100.0 Hz\n",
      "  Max Output Channels: 8\n",
      "Device ID 6 - sysdefault\n",
      "  Sample Rates: 48000.0 Hz\n",
      "  Max Output Channels: 128\n",
      "Device ID 7 - front\n",
      "  Sample Rates: 44100.0 Hz\n",
      "  Max Output Channels: 2\n",
      "Device ID 8 - surround40\n",
      "  Sample Rates: 44100.0 Hz\n",
      "  Max Output Channels: 2\n",
      "Device ID 9 - surround51\n",
      "  Sample Rates: 44100.0 Hz\n",
      "  Max Output Channels: 2\n",
      "Device ID 10 - surround71\n",
      "  Sample Rates: 44100.0 Hz\n",
      "  Max Output Channels: 2\n",
      "Device ID 11 - hdmi\n",
      "  Sample Rates: 44100.0 Hz\n",
      "  Max Output Channels: 8\n",
      "Device ID 12 - pulse\n",
      "  Sample Rates: 44100.0 Hz\n",
      "  Max Output Channels: 32\n",
      "Device ID 13 - dmix\n",
      "  Sample Rates: 48000.0 Hz\n",
      "  Max Output Channels: 2\n",
      "Device ID 14 - default\n",
      "  Sample Rates: 44100.0 Hz\n",
      "  Max Output Channels: 32\n"
     ]
    },
    {
     "name": "stderr",
     "output_type": "stream",
     "text": [
      "ALSA lib pcm.c:2495:(snd_pcm_open_noupdate) Unknown PCM cards.pcm.rear\n",
      "ALSA lib pcm.c:2495:(snd_pcm_open_noupdate) Unknown PCM cards.pcm.center_lfe\n",
      "ALSA lib pcm.c:2495:(snd_pcm_open_noupdate) Unknown PCM cards.pcm.side\n",
      "ALSA lib pcm_route.c:867:(find_matching_chmap) Found no matching channel map\n",
      "ALSA lib pcm_route.c:867:(find_matching_chmap) Found no matching channel map\n",
      "ALSA lib pcm_route.c:867:(find_matching_chmap) Found no matching channel map\n",
      "ALSA lib pcm_route.c:867:(find_matching_chmap) Found no matching channel map\n"
     ]
    }
   ],
   "source": [
    "def list_audio_devices_details():\n",
    "    p = pyaudio.PyAudio()\n",
    "    info = p.get_host_api_info_by_index(0)\n",
    "    num_devices = info.get('deviceCount')\n",
    "    for i in range(num_devices):\n",
    "        device_info = p.get_device_info_by_host_api_device_index(0, i)\n",
    "        if device_info.get('maxOutputChannels') > 0:\n",
    "            print(f\"Device ID {i} - {device_info.get('name')}\")\n",
    "            print(f\"  Sample Rates: {device_info.get('defaultSampleRate')} Hz\")\n",
    "            print(f\"  Max Output Channels: {device_info.get('maxOutputChannels')}\")\n",
    "    p.terminate()\n",
    "\n",
    "list_audio_devices_details()"
   ]
  },
  {
   "cell_type": "code",
   "execution_count": 6,
   "id": "8f71b26d",
   "metadata": {},
   "outputs": [
    {
     "name": "stdout",
     "output_type": "stream",
     "text": [
      "Converted output.wav to 48000 Hz and saved as output_48000.wav\n"
     ]
    }
   ],
   "source": [
    "from pydub import AudioSegment\n",
    "\n",
    "def convert_sample_rate(input_file, output_file, target_sample_rate):\n",
    "    audio = AudioSegment.from_wav(input_file)\n",
    "    audio = audio.set_frame_rate(target_sample_rate)\n",
    "    audio.export(output_file, format=\"wav\")\n",
    "    print(f\"Converted {input_file} to {target_sample_rate} Hz and saved as {output_file}\")\n",
    "\n",
    "convert_sample_rate(\"output.wav\", \"output_48000.wav\", 48000)"
   ]
  },
  {
   "cell_type": "code",
   "execution_count": 6,
   "id": "56e88337",
   "metadata": {},
   "outputs": [
    {
     "name": "stdout",
     "output_type": "stream",
     "text": [
      "opened file\n",
      "Playing...\n"
     ]
    },
    {
     "name": "stderr",
     "output_type": "stream",
     "text": [
      "ALSA lib pcm.c:2495:(snd_pcm_open_noupdate) Unknown PCM cards.pcm.rear\n",
      "ALSA lib pcm.c:2495:(snd_pcm_open_noupdate) Unknown PCM cards.pcm.center_lfe\n",
      "ALSA lib pcm.c:2495:(snd_pcm_open_noupdate) Unknown PCM cards.pcm.side\n",
      "ALSA lib pcm_route.c:867:(find_matching_chmap) Found no matching channel map\n",
      "ALSA lib pcm_route.c:867:(find_matching_chmap) Found no matching channel map\n",
      "ALSA lib pcm_route.c:867:(find_matching_chmap) Found no matching channel map\n",
      "ALSA lib pcm_route.c:867:(find_matching_chmap) Found no matching channel map\n"
     ]
    }
   ],
   "source": [
    "play_audio(\"output_48000.wav\", device_index=6)"
   ]
  }
 ],
 "metadata": {
  "kernelspec": {
   "display_name": "congyutf",
   "language": "python",
   "name": "congyutf"
  },
  "language_info": {
   "codemirror_mode": {
    "name": "ipython",
    "version": 3
   },
   "file_extension": ".py",
   "mimetype": "text/x-python",
   "name": "python",
   "nbconvert_exporter": "python",
   "pygments_lexer": "ipython3",
   "version": "3.9.5"
  }
 },
 "nbformat": 4,
 "nbformat_minor": 5
}
