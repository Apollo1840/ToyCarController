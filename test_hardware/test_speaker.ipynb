{
 "cells": [
  {
   "cell_type": "code",
   "execution_count": 6,
   "id": "68bfec7a",
   "metadata": {},
   "outputs": [
    {
     "name": "stdout",
     "output_type": "stream",
     "text": [
      "Collecting pydub\n",
      "  Downloading pydub-0.25.1-py2.py3-none-any.whl (32 kB)\n",
      "Installing collected packages: pydub\n",
      "Successfully installed pydub-0.25.1\n"
     ]
    }
   ],
   "source": [
    "!pip install pydub\n"
   ]
  },
  {
   "cell_type": "code",
   "execution_count": 11,
   "id": "ac5609dc",
   "metadata": {},
   "outputs": [],
   "source": [
    "import pyaudio\n",
    "import wave\n",
    "\n",
    "def list_audio_devices():\n",
    "    p = pyaudio.PyAudio()\n",
    "    info = p.get_host_api_info_by_index(0)\n",
    "    num_devices = info.get('deviceCount')\n",
    "    print(\"Output Devices:\")\n",
    "    for i in range(num_devices):\n",
    "        device_info = p.get_device_info_by_host_api_device_index(0, i)\n",
    "        if device_info.get('maxOutputChannels') > 0:\n",
    "            print(f\"Device ID {i} - {device_info.get('name')}\")\n",
    "    p.terminate()\n",
    "\n",
    "def play_audio(filename, device_index=None):\n",
    "    with wave.open(filename, 'rb') as wf:\n",
    "        print(\"opened file\")\n",
    "        p = pyaudio.PyAudio()\n",
    "        stream = p.open(format=p.get_format_from_width(wf.getsampwidth()),\n",
    "                        channels=wf.getnchannels(),\n",
    "                        rate=wf.getframerate(),\n",
    "                        output=True,\n",
    "                        output_device_index=device_index)  # Set the output device index\n",
    "\n",
    "        CHUNK = 1024\n",
    "        data = wf.readframes(CHUNK)\n",
    "        \n",
    "        print(\"Playing...\")\n",
    "        while data:\n",
    "            stream.write(data)\n",
    "            data = wf.readframes(CHUNK)\n",
    "\n",
    "        stream.stop_stream()\n",
    "        stream.close()\n",
    "        p.terminate()\n",
    "\n"
   ]
  },
  {
   "cell_type": "code",
   "execution_count": 2,
   "id": "1b759491",
   "metadata": {
    "collapsed": true
   },
   "outputs": [
    {
     "name": "stderr",
     "output_type": "stream",
     "text": [
      "ALSA lib pcm.c:2495:(snd_pcm_open_noupdate) Unknown PCM cards.pcm.rear\n",
      "ALSA lib pcm.c:2495:(snd_pcm_open_noupdate) Unknown PCM cards.pcm.center_lfe\n",
      "ALSA lib pcm.c:2495:(snd_pcm_open_noupdate) Unknown PCM cards.pcm.side\n",
      "ALSA lib pcm_route.c:867:(find_matching_chmap) Found no matching channel map\n",
      "ALSA lib pcm_route.c:867:(find_matching_chmap) Found no matching channel map\n",
      "ALSA lib pcm_route.c:867:(find_matching_chmap) Found no matching channel map\n",
      "ALSA lib pcm_route.c:867:(find_matching_chmap) Found no matching channel map\n"
     ]
    },
    {
     "name": "stdout",
     "output_type": "stream",
     "text": [
      "Listing available audio output devices:\n",
      "Output Devices:\n",
      "Device ID 0 - HDA Intel PCH: ALC256 Analog (hw:0,0)\n",
      "Device ID 1 - HDA Intel PCH: HDMI 0 (hw:0,3)\n",
      "Device ID 2 - HDA Intel PCH: HDMI 1 (hw:0,7)\n",
      "Device ID 3 - HDA Intel PCH: HDMI 2 (hw:0,8)\n",
      "Device ID 4 - HDA Intel PCH: HDMI 3 (hw:0,9)\n",
      "Device ID 5 - HDA Intel PCH: HDMI 4 (hw:0,10)\n",
      "Device ID 6 - UACDemoV1.0: USB Audio (hw:1,0)\n",
      "Device ID 7 - sysdefault\n",
      "Device ID 8 - front\n",
      "Device ID 9 - surround40\n",
      "Device ID 10 - surround51\n",
      "Device ID 11 - surround71\n",
      "Device ID 12 - hdmi\n",
      "Device ID 13 - pulse\n",
      "Device ID 14 - dmix\n",
      "Device ID 15 - default\n",
      "Enter the device index for the USB speaker: 6\n",
      "Playing 'test.wav' on device 6...\n"
     ]
    },
    {
     "name": "stderr",
     "output_type": "stream",
     "text": [
      "ALSA lib pcm.c:2495:(snd_pcm_open_noupdate) Unknown PCM cards.pcm.rear\n",
      "ALSA lib pcm.c:2495:(snd_pcm_open_noupdate) Unknown PCM cards.pcm.center_lfe\n",
      "ALSA lib pcm.c:2495:(snd_pcm_open_noupdate) Unknown PCM cards.pcm.side\n",
      "ALSA lib pcm_route.c:867:(find_matching_chmap) Found no matching channel map\n",
      "ALSA lib pcm_route.c:867:(find_matching_chmap) Found no matching channel map\n",
      "ALSA lib pcm_route.c:867:(find_matching_chmap) Found no matching channel map\n",
      "ALSA lib pcm_route.c:867:(find_matching_chmap) Found no matching channel map\n",
      "Expression 'paInvalidSampleRate' failed in 'src/hostapi/alsa/pa_linux_alsa.c', line: 2048\n",
      "Expression 'PaAlsaStreamComponent_InitialConfigure( &self->playback, outParams, self->primeBuffers, hwParamsPlayback, &realSr )' failed in 'src/hostapi/alsa/pa_linux_alsa.c', line: 2722\n",
      "Expression 'PaAlsaStream_Configure( stream, inputParameters, outputParameters, sampleRate, framesPerBuffer, &inputLatency, &outputLatency, &hostBufferSizeMode )' failed in 'src/hostapi/alsa/pa_linux_alsa.c', line: 2843\n"
     ]
    },
    {
     "ename": "OSError",
     "evalue": "[Errno -9997] Invalid sample rate",
     "output_type": "error",
     "traceback": [
      "\u001b[0;31m---------------------------------------------------------------------------\u001b[0m",
      "\u001b[0;31mOSError\u001b[0m                                   Traceback (most recent call last)",
      "Cell \u001b[0;32mIn[2], line 9\u001b[0m\n\u001b[1;32m      7\u001b[0m \u001b[38;5;66;03m# Play the test.wav file using the selected USB speaker\u001b[39;00m\n\u001b[1;32m      8\u001b[0m \u001b[38;5;28mprint\u001b[39m(\u001b[38;5;124mf\u001b[39m\u001b[38;5;124m\"\u001b[39m\u001b[38;5;124mPlaying \u001b[39m\u001b[38;5;124m'\u001b[39m\u001b[38;5;124mtest.wav\u001b[39m\u001b[38;5;124m'\u001b[39m\u001b[38;5;124m on device \u001b[39m\u001b[38;5;132;01m{\u001b[39;00musb_speaker_index\u001b[38;5;132;01m}\u001b[39;00m\u001b[38;5;124m...\u001b[39m\u001b[38;5;124m\"\u001b[39m)\n\u001b[0;32m----> 9\u001b[0m \u001b[43mplay_audio\u001b[49m\u001b[43m(\u001b[49m\u001b[38;5;124;43m\"\u001b[39;49m\u001b[38;5;124;43moutput.wav\u001b[39;49m\u001b[38;5;124;43m\"\u001b[39;49m\u001b[43m,\u001b[49m\u001b[43m \u001b[49m\u001b[43mdevice_index\u001b[49m\u001b[38;5;241;43m=\u001b[39;49m\u001b[43musb_speaker_index\u001b[49m\u001b[43m)\u001b[49m\n",
      "Cell \u001b[0;32mIn[1], line 18\u001b[0m, in \u001b[0;36mplay_audio\u001b[0;34m(filename, device_index)\u001b[0m\n\u001b[1;32m     16\u001b[0m \u001b[38;5;28;01mwith\u001b[39;00m wave\u001b[38;5;241m.\u001b[39mopen(filename, \u001b[38;5;124m'\u001b[39m\u001b[38;5;124mrb\u001b[39m\u001b[38;5;124m'\u001b[39m) \u001b[38;5;28;01mas\u001b[39;00m wf:\n\u001b[1;32m     17\u001b[0m     p \u001b[38;5;241m=\u001b[39m pyaudio\u001b[38;5;241m.\u001b[39mPyAudio()\n\u001b[0;32m---> 18\u001b[0m     stream \u001b[38;5;241m=\u001b[39m \u001b[43mp\u001b[49m\u001b[38;5;241;43m.\u001b[39;49m\u001b[43mopen\u001b[49m\u001b[43m(\u001b[49m\u001b[38;5;28;43mformat\u001b[39;49m\u001b[38;5;241;43m=\u001b[39;49m\u001b[43mp\u001b[49m\u001b[38;5;241;43m.\u001b[39;49m\u001b[43mget_format_from_width\u001b[49m\u001b[43m(\u001b[49m\u001b[43mwf\u001b[49m\u001b[38;5;241;43m.\u001b[39;49m\u001b[43mgetsampwidth\u001b[49m\u001b[43m(\u001b[49m\u001b[43m)\u001b[49m\u001b[43m)\u001b[49m\u001b[43m,\u001b[49m\n\u001b[1;32m     19\u001b[0m \u001b[43m                    \u001b[49m\u001b[43mchannels\u001b[49m\u001b[38;5;241;43m=\u001b[39;49m\u001b[43mwf\u001b[49m\u001b[38;5;241;43m.\u001b[39;49m\u001b[43mgetnchannels\u001b[49m\u001b[43m(\u001b[49m\u001b[43m)\u001b[49m\u001b[43m,\u001b[49m\n\u001b[1;32m     20\u001b[0m \u001b[43m                    \u001b[49m\u001b[43mrate\u001b[49m\u001b[38;5;241;43m=\u001b[39;49m\u001b[43mwf\u001b[49m\u001b[38;5;241;43m.\u001b[39;49m\u001b[43mgetframerate\u001b[49m\u001b[43m(\u001b[49m\u001b[43m)\u001b[49m\u001b[43m,\u001b[49m\n\u001b[1;32m     21\u001b[0m \u001b[43m                    \u001b[49m\u001b[43moutput\u001b[49m\u001b[38;5;241;43m=\u001b[39;49m\u001b[38;5;28;43;01mTrue\u001b[39;49;00m\u001b[43m,\u001b[49m\n\u001b[1;32m     22\u001b[0m \u001b[43m                    \u001b[49m\u001b[43moutput_device_index\u001b[49m\u001b[38;5;241;43m=\u001b[39;49m\u001b[43mdevice_index\u001b[49m\u001b[43m)\u001b[49m  \u001b[38;5;66;03m# Set the output device index\u001b[39;00m\n\u001b[1;32m     24\u001b[0m     CHUNK \u001b[38;5;241m=\u001b[39m \u001b[38;5;241m1024\u001b[39m\n\u001b[1;32m     25\u001b[0m     data \u001b[38;5;241m=\u001b[39m wf\u001b[38;5;241m.\u001b[39mreadframes(CHUNK)\n",
      "File \u001b[0;32m~/anaconda3/envs/congyutf/lib/python3.9/site-packages/pyaudio/__init__.py:639\u001b[0m, in \u001b[0;36mPyAudio.open\u001b[0;34m(self, *args, **kwargs)\u001b[0m\n\u001b[1;32m    631\u001b[0m \u001b[38;5;28;01mdef\u001b[39;00m \u001b[38;5;21mopen\u001b[39m(\u001b[38;5;28mself\u001b[39m, \u001b[38;5;241m*\u001b[39margs, \u001b[38;5;241m*\u001b[39m\u001b[38;5;241m*\u001b[39mkwargs):\n\u001b[1;32m    632\u001b[0m \u001b[38;5;250m    \u001b[39m\u001b[38;5;124;03m\"\"\"Opens a new stream.\u001b[39;00m\n\u001b[1;32m    633\u001b[0m \n\u001b[1;32m    634\u001b[0m \u001b[38;5;124;03m    See constructor for :py:func:`PyAudio.Stream.__init__` for parameter\u001b[39;00m\n\u001b[0;32m   (...)\u001b[0m\n\u001b[1;32m    637\u001b[0m \u001b[38;5;124;03m    :returns: A new :py:class:`PyAudio.Stream`\u001b[39;00m\n\u001b[1;32m    638\u001b[0m \u001b[38;5;124;03m    \"\"\"\u001b[39;00m\n\u001b[0;32m--> 639\u001b[0m     stream \u001b[38;5;241m=\u001b[39m \u001b[43mPyAudio\u001b[49m\u001b[38;5;241;43m.\u001b[39;49m\u001b[43mStream\u001b[49m\u001b[43m(\u001b[49m\u001b[38;5;28;43mself\u001b[39;49m\u001b[43m,\u001b[49m\u001b[43m \u001b[49m\u001b[38;5;241;43m*\u001b[39;49m\u001b[43margs\u001b[49m\u001b[43m,\u001b[49m\u001b[43m \u001b[49m\u001b[38;5;241;43m*\u001b[39;49m\u001b[38;5;241;43m*\u001b[39;49m\u001b[43mkwargs\u001b[49m\u001b[43m)\u001b[49m\n\u001b[1;32m    640\u001b[0m     \u001b[38;5;28mself\u001b[39m\u001b[38;5;241m.\u001b[39m_streams\u001b[38;5;241m.\u001b[39madd(stream)\n\u001b[1;32m    641\u001b[0m     \u001b[38;5;28;01mreturn\u001b[39;00m stream\n",
      "File \u001b[0;32m~/anaconda3/envs/congyutf/lib/python3.9/site-packages/pyaudio/__init__.py:441\u001b[0m, in \u001b[0;36mPyAudio.Stream.__init__\u001b[0;34m(self, PA_manager, rate, channels, format, input, output, input_device_index, output_device_index, frames_per_buffer, start, input_host_api_specific_stream_info, output_host_api_specific_stream_info, stream_callback)\u001b[0m\n\u001b[1;32m    438\u001b[0m     arguments[\u001b[38;5;124m'\u001b[39m\u001b[38;5;124mstream_callback\u001b[39m\u001b[38;5;124m'\u001b[39m] \u001b[38;5;241m=\u001b[39m stream_callback\n\u001b[1;32m    440\u001b[0m \u001b[38;5;66;03m# calling pa.open returns a stream object\u001b[39;00m\n\u001b[0;32m--> 441\u001b[0m \u001b[38;5;28mself\u001b[39m\u001b[38;5;241m.\u001b[39m_stream \u001b[38;5;241m=\u001b[39m \u001b[43mpa\u001b[49m\u001b[38;5;241;43m.\u001b[39;49m\u001b[43mopen\u001b[49m\u001b[43m(\u001b[49m\u001b[38;5;241;43m*\u001b[39;49m\u001b[38;5;241;43m*\u001b[39;49m\u001b[43marguments\u001b[49m\u001b[43m)\u001b[49m\n\u001b[1;32m    443\u001b[0m \u001b[38;5;28mself\u001b[39m\u001b[38;5;241m.\u001b[39m_input_latency \u001b[38;5;241m=\u001b[39m \u001b[38;5;28mself\u001b[39m\u001b[38;5;241m.\u001b[39m_stream\u001b[38;5;241m.\u001b[39minputLatency\n\u001b[1;32m    444\u001b[0m \u001b[38;5;28mself\u001b[39m\u001b[38;5;241m.\u001b[39m_output_latency \u001b[38;5;241m=\u001b[39m \u001b[38;5;28mself\u001b[39m\u001b[38;5;241m.\u001b[39m_stream\u001b[38;5;241m.\u001b[39moutputLatency\n",
      "\u001b[0;31mOSError\u001b[0m: [Errno -9997] Invalid sample rate"
     ]
    }
   ],
   "source": [
    "print(\"Listing available audio output devices:\")\n",
    "list_audio_devices()\n",
    "\n",
    "# Replace the following line with the index of your USB speaker after listing devices\n",
    "usb_speaker_index = int(input(\"Enter the device index for the USB speaker: \"))\n",
    "\n",
    "# Play the test.wav file using the selected USB speaker\n",
    "print(f\"Playing 'test.wav' on device {usb_speaker_index}...\")\n",
    "play_audio(\"output.wav\", device_index=usb_speaker_index)"
   ]
  },
  {
   "cell_type": "code",
   "execution_count": 3,
   "id": "a3b463a6",
   "metadata": {},
   "outputs": [
    {
     "name": "stdout",
     "output_type": "stream",
     "text": [
      "Sample rate of output.wav: 44100 Hz\n"
     ]
    }
   ],
   "source": [
    "import wave\n",
    "\n",
    "def check_sample_rate(filename):\n",
    "    with wave.open(filename, 'rb') as wf:\n",
    "        sample_rate = wf.getframerate()\n",
    "        print(f\"Sample rate of {filename}: {sample_rate} Hz\")\n",
    "\n",
    "check_sample_rate(\"output.wav\")\n"
   ]
  },
  {
   "cell_type": "code",
   "execution_count": 14,
   "id": "8d22b227",
   "metadata": {},
   "outputs": [
    {
     "name": "stdout",
     "output_type": "stream",
     "text": [
      "Device ID 0 - HDA Intel PCH: ALC256 Analog (hw:0,0)\n",
      "  Sample Rates: 44100.0 Hz\n",
      "  Max Output Channels: 2\n",
      "Device ID 1 - HDA Intel PCH: HDMI 0 (hw:0,3)\n",
      "  Sample Rates: 44100.0 Hz\n",
      "  Max Output Channels: 8\n",
      "Device ID 2 - HDA Intel PCH: HDMI 1 (hw:0,7)\n",
      "  Sample Rates: 44100.0 Hz\n",
      "  Max Output Channels: 8\n",
      "Device ID 3 - HDA Intel PCH: HDMI 2 (hw:0,8)\n",
      "  Sample Rates: 44100.0 Hz\n",
      "  Max Output Channels: 8\n",
      "Device ID 4 - HDA Intel PCH: HDMI 3 (hw:0,9)\n",
      "  Sample Rates: 44100.0 Hz\n",
      "  Max Output Channels: 8\n",
      "Device ID 5 - HDA Intel PCH: HDMI 4 (hw:0,10)\n",
      "  Sample Rates: 44100.0 Hz\n",
      "  Max Output Channels: 8\n",
      "Device ID 6 - UACDemoV1.0: USB Audio (hw:1,0)\n",
      "  Sample Rates: 48000.0 Hz\n",
      "  Max Output Channels: 2\n",
      "Device ID 7 - sysdefault\n",
      "  Sample Rates: 48000.0 Hz\n",
      "  Max Output Channels: 128\n",
      "Device ID 8 - front\n",
      "  Sample Rates: 44100.0 Hz\n",
      "  Max Output Channels: 2\n",
      "Device ID 9 - surround40\n",
      "  Sample Rates: 44100.0 Hz\n",
      "  Max Output Channels: 2\n",
      "Device ID 10 - surround51\n",
      "  Sample Rates: 44100.0 Hz\n",
      "  Max Output Channels: 2\n",
      "Device ID 11 - surround71\n",
      "  Sample Rates: 44100.0 Hz\n",
      "  Max Output Channels: 2\n",
      "Device ID 12 - hdmi\n",
      "  Sample Rates: 44100.0 Hz\n",
      "  Max Output Channels: 8\n",
      "Device ID 13 - pulse\n",
      "  Sample Rates: 44100.0 Hz\n",
      "  Max Output Channels: 32\n",
      "Device ID 14 - dmix\n",
      "  Sample Rates: 48000.0 Hz\n",
      "  Max Output Channels: 2\n",
      "Device ID 15 - default\n",
      "  Sample Rates: 44100.0 Hz\n",
      "  Max Output Channels: 32\n"
     ]
    }
   ],
   "source": [
    "def list_audio_devices():\n",
    "    p = pyaudio.PyAudio()\n",
    "    info = p.get_host_api_info_by_index(0)\n",
    "    num_devices = info.get('deviceCount')\n",
    "    for i in range(num_devices):\n",
    "        device_info = p.get_device_info_by_host_api_device_index(0, i)\n",
    "        if device_info.get('maxOutputChannels') > 0:\n",
    "            print(f\"Device ID {i} - {device_info.get('name')}\")\n",
    "            print(f\"  Sample Rates: {device_info.get('defaultSampleRate')} Hz\")\n",
    "            print(f\"  Max Output Channels: {device_info.get('maxOutputChannels')}\")\n",
    "    p.terminate()\n",
    "\n",
    "list_audio_devices()"
   ]
  },
  {
   "cell_type": "code",
   "execution_count": 7,
   "id": "8f71b26d",
   "metadata": {},
   "outputs": [
    {
     "name": "stdout",
     "output_type": "stream",
     "text": [
      "Converted output.wav to 48000 Hz and saved as output_48000.wav\n"
     ]
    }
   ],
   "source": [
    "from pydub import AudioSegment\n",
    "\n",
    "def convert_sample_rate(input_file, output_file, target_sample_rate):\n",
    "    audio = AudioSegment.from_wav(input_file)\n",
    "    audio = audio.set_frame_rate(target_sample_rate)\n",
    "    audio.export(output_file, format=\"wav\")\n",
    "    print(f\"Converted {input_file} to {target_sample_rate} Hz and saved as {output_file}\")\n",
    "\n",
    "convert_sample_rate(\"output.wav\", \"output_48000.wav\", 48000)"
   ]
  },
  {
   "cell_type": "code",
   "execution_count": null,
   "id": "56e88337",
   "metadata": {},
   "outputs": [
    {
     "name": "stdout",
     "output_type": "stream",
     "text": [
      "opened file\n",
      "Playing...\n"
     ]
    }
   ],
   "source": [
    "play_audio(\"output_48000.wav\", device_index=6)"
   ]
  },
  {
   "cell_type": "code",
   "execution_count": null,
   "id": "4a536866",
   "metadata": {},
   "outputs": [],
   "source": []
  }
 ],
 "metadata": {
  "kernelspec": {
   "display_name": "congyutf",
   "language": "python",
   "name": "congyutf"
  },
  "language_info": {
   "codemirror_mode": {
    "name": "ipython",
    "version": 3
   },
   "file_extension": ".py",
   "mimetype": "text/x-python",
   "name": "python",
   "nbconvert_exporter": "python",
   "pygments_lexer": "ipython3",
   "version": "3.9.5"
  }
 },
 "nbformat": 4,
 "nbformat_minor": 5
}
