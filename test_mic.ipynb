{
 "cells": [
  {
   "cell_type": "code",
   "execution_count": 1,
   "id": "acbf970f",
   "metadata": {},
   "outputs": [],
   "source": [
    "import numpy as np\n",
    "import matplotlib.pyplot as plt\n",
    "from matplotlib.animation import FuncAnimation\n",
    "import time\n",
    "import wave\n",
    "import pyaudio"
   ]
  },
  {
   "cell_type": "code",
   "execution_count": 2,
   "id": "351dcefa",
   "metadata": {
    "collapsed": true
   },
   "outputs": [
    {
     "name": "stderr",
     "output_type": "stream",
     "text": [
      "ALSA lib pcm.c:2495:(snd_pcm_open_noupdate) Unknown PCM cards.pcm.rear\n",
      "ALSA lib pcm.c:2495:(snd_pcm_open_noupdate) Unknown PCM cards.pcm.center_lfe\n",
      "ALSA lib pcm.c:2495:(snd_pcm_open_noupdate) Unknown PCM cards.pcm.side\n",
      "ALSA lib pcm_route.c:867:(find_matching_chmap) Found no matching channel map\n",
      "ALSA lib pcm_route.c:867:(find_matching_chmap) Found no matching channel map\n",
      "ALSA lib pcm_route.c:867:(find_matching_chmap) Found no matching channel map\n",
      "ALSA lib pcm_route.c:867:(find_matching_chmap) Found no matching channel map\n"
     ]
    },
    {
     "name": "stdout",
     "output_type": "stream",
     "text": [
      "Listing available audio devices:\n",
      "Device ID 0 - HDA Intel PCH: ALC256 Analog (hw:0,0)\n",
      "Device ID 6 - USB PnP Sound Device: Audio (hw:1,0)\n",
      "Device ID 7 - sysdefault\n",
      "Device ID 13 - pulse\n",
      "Device ID 15 - default\n",
      "Enter the device index to test: 6\n"
     ]
    },
    {
     "name": "stderr",
     "output_type": "stream",
     "text": [
      "ALSA lib pcm.c:2495:(snd_pcm_open_noupdate) Unknown PCM cards.pcm.rear\n",
      "ALSA lib pcm.c:2495:(snd_pcm_open_noupdate) Unknown PCM cards.pcm.center_lfe\n",
      "ALSA lib pcm.c:2495:(snd_pcm_open_noupdate) Unknown PCM cards.pcm.side\n",
      "ALSA lib pcm_route.c:867:(find_matching_chmap) Found no matching channel map\n",
      "ALSA lib pcm_route.c:867:(find_matching_chmap) Found no matching channel map\n",
      "ALSA lib pcm_route.c:867:(find_matching_chmap) Found no matching channel map\n",
      "ALSA lib pcm_route.c:867:(find_matching_chmap) Found no matching channel map\n"
     ]
    },
    {
     "name": "stdout",
     "output_type": "stream",
     "text": [
      "{'index': 6, 'structVersion': 2, 'name': 'USB PnP Sound Device: Audio (hw:1,0)', 'hostApi': 0, 'maxInputChannels': 1, 'maxOutputChannels': 0, 'defaultLowInputLatency': 0.008684807256235827, 'defaultLowOutputLatency': -1.0, 'defaultHighInputLatency': 0.034829931972789115, 'defaultHighOutputLatency': -1.0, 'defaultSampleRate': 44100.0}\n",
      "Recording from device 6 for 5 seconds...\n",
      "Finished recording.\n",
      "Audio data captured successfully.\n"
     ]
    }
   ],
   "source": [
    "def list_audio_devices():\n",
    "    p = pyaudio.PyAudio()\n",
    "    info = p.get_host_api_info_by_index(0)\n",
    "    num_devices = info.get('deviceCount')\n",
    "    for i in range(num_devices):\n",
    "        device_info = p.get_device_info_by_host_api_device_index(0, i)\n",
    "        if device_info.get('maxInputChannels') > 0:\n",
    "            print(f\"Device ID {i} - {device_info.get('name')}\")\n",
    "    p.terminate()\n",
    "\n"
   ]
  },
  {
   "cell_type": "code",
   "execution_count": null,
   "id": "35ec6419",
   "metadata": {},
   "outputs": [],
   "source": [
    "print(\"Listing available audio devices:\")\n",
    "list_audio_devices()"
   ]
  },
  {
   "cell_type": "code",
   "execution_count": null,
   "id": "c301b911",
   "metadata": {},
   "outputs": [],
   "source": [
    "def test_microphone(device_index, duration=5):\n",
    "    p = pyaudio.PyAudio()\n",
    "    \n",
    "    device_info = p.get_device_info_by_index(device_index)\n",
    "    print(device_info)\n",
    "\n",
    "    stream = p.open(format=pyaudio.paInt16,\n",
    "                    channels=1,\n",
    "                    rate=44100,\n",
    "                    input=True,\n",
    "                    input_device_index=device_index,\n",
    "                    frames_per_buffer=4096)  # Increased buffer size\n",
    "\n",
    "    print(f\"Recording from device {device_index} for {duration} seconds...\")\n",
    "\n",
    "    frames = []\n",
    "    try:\n",
    "        for _ in range(0, int(44100 / 1024 * duration)):\n",
    "            data = stream.read(1024, exception_on_overflow=False)  # Handle overflow\n",
    "            frames.append(data)\n",
    "    except IOError as e:\n",
    "        print(f\"Error recording: {e}\")\n",
    "\n",
    "    print(\"Finished recording.\")\n",
    "\n",
    "    stream.stop_stream()\n",
    "    stream.close()\n",
    "    p.terminate()\n",
    "\n",
    "    # Check if data was captured\n",
    "    if len(frames) > 0:\n",
    "        print(\"Audio data captured successfully.\")\n",
    "    else:\n",
    "        print(\"Failed to capture audio data.\")"
   ]
  },
  {
   "cell_type": "code",
   "execution_count": null,
   "id": "816740d1",
   "metadata": {},
   "outputs": [],
   "source": [
    "device_index = int(input(\"Enter the device index to test: \"))\n",
    "test_microphone(device_index)"
   ]
  },
  {
   "cell_type": "code",
   "execution_count": 3,
   "id": "c0b91c0e",
   "metadata": {
    "collapsed": true
   },
   "outputs": [
    {
     "name": "stderr",
     "output_type": "stream",
     "text": [
      "ALSA lib pcm.c:2495:(snd_pcm_open_noupdate) Unknown PCM cards.pcm.rear\n",
      "ALSA lib pcm.c:2495:(snd_pcm_open_noupdate) Unknown PCM cards.pcm.center_lfe\n",
      "ALSA lib pcm.c:2495:(snd_pcm_open_noupdate) Unknown PCM cards.pcm.side\n",
      "ALSA lib pcm_route.c:867:(find_matching_chmap) Found no matching channel map\n",
      "ALSA lib pcm_route.c:867:(find_matching_chmap) Found no matching channel map\n",
      "ALSA lib pcm_route.c:867:(find_matching_chmap) Found no matching channel map\n",
      "ALSA lib pcm_route.c:867:(find_matching_chmap) Found no matching channel map\n"
     ]
    },
    {
     "name": "stdout",
     "output_type": "stream",
     "text": [
      "Available audio devices:\n",
      "Device ID 0 - HDA Intel PCH: ALC256 Analog (hw:0,0)\n",
      "Device ID 6 - USB PnP Sound Device: Audio (hw:1,0)\n",
      "Device ID 7 - sysdefault\n",
      "Device ID 13 - pulse\n",
      "Device ID 15 - default\n",
      "Enter the device index to use for recording: 6\n",
      "Recording started...\n",
      "Recording finished.\n"
     ]
    }
   ],
   "source": [
    "# Define parameters\n",
    "CHUNK = 8192  # Increased buffer size\n",
    "FORMAT = pyaudio.paInt16  # Sampling format\n",
    "CHANNELS = 1  # Mono\n",
    "RATE = 44100  # Sampling rate\n",
    "RECORD_SECONDS = 10  # Duration to record\n",
    "WAVE_OUTPUT_FILENAME = \"output.wav\"  # Output file name\n",
    "\n",
    "frames = []\n",
    "\n",
    "# Callback function to capture audio\n",
    "def callback(in_data, frame_count, time_info, status):\n",
    "    frames.append(in_data)\n",
    "    return (in_data, pyaudio.paContinue)\n",
    "\n",
    "# Initialize PyAudio\n",
    "p = pyaudio.PyAudio()\n",
    "\n",
    "# List available audio devices\n",
    "info = p.get_host_api_info_by_index(0)\n",
    "num_devices = info.get('deviceCount')\n",
    "print(\"Available audio devices:\")\n",
    "for i in range(num_devices):\n",
    "    device_info = p.get_device_info_by_host_api_device_index(0, i)\n",
    "    if device_info.get('maxInputChannels') > 0:\n",
    "        print(f\"Device ID {i} - {device_info.get('name')}\")\n",
    "\n",
    "# Ask user to select device index\n",
    "device_index = int(input(\"Enter the device index to use for recording: \"))\n",
    "\n",
    "# Open stream using callback\n",
    "stream = p.open(format=FORMAT,\n",
    "                channels=CHANNELS,\n",
    "                rate=RATE,\n",
    "                input=True,\n",
    "                input_device_index=device_index,\n",
    "                frames_per_buffer=CHUNK,\n",
    "                stream_callback=callback)\n",
    "\n",
    "print(\"Recording started...\")\n",
    "\n",
    "# Start the stream\n",
    "stream.start_stream()\n",
    "\n",
    "# Record for the specified duration\n",
    "time.sleep(RECORD_SECONDS)\n",
    "\n",
    "print(\"Recording finished.\")\n",
    "\n",
    "# Stop and close the stream\n",
    "stream.stop_stream()\n",
    "stream.close()\n",
    "p.terminate()\n",
    "\n",
    "# Save the recorded data as a WAV file\n",
    "wf = wave.open(WAVE_OUTPUT_FILENAME, 'wb')\n",
    "wf.setnchannels(CHANNELS)\n",
    "wf.setsampwidth(p.get_sample_size(FORMAT))\n",
    "wf.setframerate(RATE)\n",
    "wf.writeframes(b''.join(frames))\n",
    "wf.close()\n",
    "\n",
    "# Play back the recorded audio\n",
    "def play_audio(filename):\n",
    "    wf = wave.open(filename, 'rb')\n",
    "    p = pyaudio.PyAudio()\n",
    "\n",
    "    stream = p.open(format=p.get_format_from_width(wf.getsampwidth()),\n",
    "                    channels=wf.getnchannels(),\n",
    "                    rate=wf.getframerate(),\n",
    "                    output=True)\n",
    "\n",
    "    data = wf.readframes(CHUNK)\n",
    "\n",
    "    while data:\n",
    "        stream.write(data)\n",
    "        data = wf.readframes(CHUNK)\n",
    "\n",
    "    stream.stop_stream()\n",
    "    stream.close()\n",
    "    p.terminate()\n",
    "\n"
   ]
  },
  {
   "cell_type": "code",
   "execution_count": 7,
   "id": "1e7f99bd",
   "metadata": {
    "collapsed": true
   },
   "outputs": [
    {
     "name": "stdout",
     "output_type": "stream",
     "text": [
      "Playing back the recorded audio...\n"
     ]
    },
    {
     "name": "stderr",
     "output_type": "stream",
     "text": [
      "ALSA lib pcm.c:2495:(snd_pcm_open_noupdate) Unknown PCM cards.pcm.rear\n",
      "ALSA lib pcm.c:2495:(snd_pcm_open_noupdate) Unknown PCM cards.pcm.center_lfe\n",
      "ALSA lib pcm.c:2495:(snd_pcm_open_noupdate) Unknown PCM cards.pcm.side\n",
      "ALSA lib pcm_route.c:867:(find_matching_chmap) Found no matching channel map\n",
      "ALSA lib pcm_route.c:867:(find_matching_chmap) Found no matching channel map\n",
      "ALSA lib pcm_route.c:867:(find_matching_chmap) Found no matching channel map\n",
      "ALSA lib pcm_route.c:867:(find_matching_chmap) Found no matching channel map\n",
      "ALSA lib pcm.c:8306:(snd_pcm_recover) underrun occurred\n"
     ]
    }
   ],
   "source": [
    "print(\"Playing back the recorded audio...\")\n",
    "play_audio(WAVE_OUTPUT_FILENAME)"
   ]
  },
  {
   "cell_type": "code",
   "execution_count": 6,
   "id": "d834427c",
   "metadata": {},
   "outputs": [
    {
     "name": "stdout",
     "output_type": "stream",
     "text": [
      "Plotting the waveform of the recorded audio...\n"
     ]
    },
    {
     "data": {
      "image/png": "[encoded data removed]",
      "text/plain": [
       "<Figure size 1200x600 with 1 Axes>"
      ]
     },
     "metadata": {},
     "output_type": "display_data"
    }
   ],
   "source": [
    "# Function to plot the waveform\n",
    "def plot_waveform(filename):\n",
    "    wf = wave.open(filename, 'rb')\n",
    "    n_channels = wf.getnchannels()\n",
    "    sampwidth = wf.getsampwidth()\n",
    "    framerate = wf.getframerate()\n",
    "    n_frames = wf.getnframes()\n",
    "    audio_data = wf.readframes(n_frames)\n",
    "    wf.close()\n",
    "\n",
    "    # Convert audio data to numpy array\n",
    "    audio_data = np.frombuffer(audio_data, dtype=np.int16)\n",
    "\n",
    "    # Create time array\n",
    "    time_array = np.linspace(0, n_frames / framerate, num=n_frames)\n",
    "\n",
    "    # Plot waveform\n",
    "    plt.figure(figsize=(12, 6))\n",
    "    plt.plot(time_array, audio_data)\n",
    "    plt.title(\"Waveform of Recorded Audio\")\n",
    "    plt.xlabel(\"Time (s)\")\n",
    "    plt.ylabel(\"Amplitude\")\n",
    "    plt.show()\n",
    "\n",
    "print(\"Plotting the waveform of the recorded audio...\")\n",
    "plot_waveform(WAVE_OUTPUT_FILENAME)"
   ]
  },
  {
   "cell_type": "code",
   "execution_count": null,
   "id": "1d59172f",
   "metadata": {},
   "outputs": [],
   "source": []
  }
 ],
 "metadata": {
  "kernelspec": {
   "display_name": "congyutf",
   "language": "python",
   "name": "congyutf"
  },
  "language_info": {
   "codemirror_mode": {
    "name": "ipython",
    "version": 3
   },
   "file_extension": ".py",
   "mimetype": "text/x-python",
   "name": "python",
   "nbconvert_exporter": "python",
   "pygments_lexer": "ipython3",
   "version": "3.9.5"
  }
 },
 "nbformat": 4,
 "nbformat_minor": 5
}
